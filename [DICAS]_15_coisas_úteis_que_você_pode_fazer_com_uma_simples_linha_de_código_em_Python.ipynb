{
  "nbformat": 4,
  "nbformat_minor": 0,
  "metadata": {
    "colab": {
      "name": "[DICAS] - 15 coisas úteis que você pode fazer com uma simples linha de código em Python.ipynb",
      "provenance": [],
      "collapsed_sections": [],
      "authorship_tag": "ABX9TyOZdr9zq4Af5fZ6zb9UOC5a",
      "include_colab_link": true
    },
    "kernelspec": {
      "name": "python3",
      "display_name": "Python 3"
    },
    "language_info": {
      "name": "python"
    }
  },
  "cells": [
    {
      "cell_type": "markdown",
      "metadata": {
        "id": "view-in-github",
        "colab_type": "text"
      },
      "source": [
        "<a href=\"https://colab.research.google.com/github/FGalvao77/-DICAS-Uso-de-ferramentas-para-Data-Science-e-afins/blob/main/%5BDICAS%5D_15_coisas_%C3%BAteis_que_voc%C3%AA_pode_fazer_com_uma_simples_linha_de_c%C3%B3digo_em_Python.ipynb\" target=\"_parent\"><img src=\"https://colab.research.google.com/assets/colab-badge.svg\" alt=\"Open In Colab\"/></a>"
      ]
    },
    {
      "cell_type": "markdown",
      "source": [
        "### **[DICAS] - _15 coisas úteis_ que você pode fazer com uma simples `linha de código em Python`**\n",
        "---"
      ],
      "metadata": {
        "id": "lS-INPRhFzsX"
      }
    },
    {
      "cell_type": "markdown",
      "source": [
        "**1. Trocar duas variáveis  | Swap two variables**"
      ],
      "metadata": {
        "id": "hXfKTOljGkvV"
      }
    },
    {
      "cell_type": "code",
      "execution_count": null,
      "metadata": {
        "colab": {
          "base_uri": "https://localhost:8080/"
        },
        "id": "4sfTkaf3FewG",
        "outputId": "c3400a65-71cd-41c7-e71c-7bd9c23cae0a"
      },
      "outputs": [
        {
          "output_type": "stream",
          "name": "stdout",
          "text": [
            "10 20\n"
          ]
        }
      ],
      "source": [
        "a = 10\n",
        "b = 20\n",
        "\n",
        "print(a, b)"
      ]
    },
    {
      "cell_type": "code",
      "source": [
        "a, b = b, a\n",
        "\n",
        "print(a, b)"
      ],
      "metadata": {
        "colab": {
          "base_uri": "https://localhost:8080/"
        },
        "id": "1A1oViGtGLE6",
        "outputId": "6c5b0eb0-f188-4aa0-83db-45957f20862e"
      },
      "execution_count": null,
      "outputs": [
        {
          "output_type": "stream",
          "name": "stdout",
          "text": [
            "20 10\n"
          ]
        }
      ]
    },
    {
      "cell_type": "markdown",
      "source": [
        "**2. Reverter uma lista | Reverse a list**"
      ],
      "metadata": {
        "id": "EegXYE-LHBA_"
      }
    },
    {
      "cell_type": "code",
      "source": [
        "l = [1, 2, 3, 4, 5]\n",
        "\n",
        "print(l)"
      ],
      "metadata": {
        "colab": {
          "base_uri": "https://localhost:8080/"
        },
        "id": "BXKEHWLcGLDd",
        "outputId": "942f13ec-b107-4bed-9ff1-93903502bf0d"
      },
      "execution_count": null,
      "outputs": [
        {
          "output_type": "stream",
          "name": "stdout",
          "text": [
            "[1, 2, 3, 4, 5]\n"
          ]
        }
      ]
    },
    {
      "cell_type": "code",
      "source": [
        "print(l[::-1])"
      ],
      "metadata": {
        "colab": {
          "base_uri": "https://localhost:8080/"
        },
        "id": "FcSauTMfGLB7",
        "outputId": "6394f78b-9d74-40c3-92b2-4f70ba4ecead"
      },
      "execution_count": null,
      "outputs": [
        {
          "output_type": "stream",
          "name": "stdout",
          "text": [
            "[5, 4, 3, 2, 1]\n"
          ]
        }
      ]
    },
    {
      "cell_type": "code",
      "source": [
        "print(l)"
      ],
      "metadata": {
        "colab": {
          "base_uri": "https://localhost:8080/"
        },
        "id": "rLi_J6YEHoc6",
        "outputId": "df5e4d09-b016-47e0-c1d4-5516a84d7d3f"
      },
      "execution_count": null,
      "outputs": [
        {
          "output_type": "stream",
          "name": "stdout",
          "text": [
            "[1, 2, 3, 4, 5]\n"
          ]
        }
      ]
    },
    {
      "cell_type": "code",
      "source": [
        "l.reverse()\n",
        "\n",
        "print(l)"
      ],
      "metadata": {
        "colab": {
          "base_uri": "https://localhost:8080/"
        },
        "id": "ceH43K2nGK_U",
        "outputId": "ba3c0c5f-c344-452a-8dfa-7e620eff342b"
      },
      "execution_count": null,
      "outputs": [
        {
          "output_type": "stream",
          "name": "stdout",
          "text": [
            "[5, 4, 3, 2, 1]\n"
          ]
        }
      ]
    },
    {
      "cell_type": "markdown",
      "source": [
        "**3. Calcular a moda de uma lista | Calculate the mode of a list**"
      ],
      "metadata": {
        "id": "-o561FXgH1PH"
      }
    },
    {
      "cell_type": "code",
      "source": [
        "l = [2, 1, 3, 2, 5, 2, 2, 5, 4, 6, 5]\n",
        "\n",
        "print(l)"
      ],
      "metadata": {
        "colab": {
          "base_uri": "https://localhost:8080/"
        },
        "id": "1sjEGJwqHvxC",
        "outputId": "fcd940b9-4204-463c-b3d4-688e8afe6c06"
      },
      "execution_count": null,
      "outputs": [
        {
          "output_type": "stream",
          "name": "stdout",
          "text": [
            "[2, 1, 3, 2, 5, 2, 2, 5, 4, 6, 5]\n"
          ]
        }
      ]
    },
    {
      "cell_type": "code",
      "source": [
        "set(l)"
      ],
      "metadata": {
        "colab": {
          "base_uri": "https://localhost:8080/"
        },
        "id": "3MMiDwNbHvoP",
        "outputId": "0b326e13-6884-42a9-a4e6-24392d4116f0"
      },
      "execution_count": null,
      "outputs": [
        {
          "output_type": "execute_result",
          "data": {
            "text/plain": [
              "{1, 2, 3, 4, 5, 6}"
            ]
          },
          "metadata": {},
          "execution_count": 9
        }
      ]
    },
    {
      "cell_type": "code",
      "source": [
        "l.count(1), l.count(2), l.count(3), l.count(4), l.count(5), l.count(6)"
      ],
      "metadata": {
        "colab": {
          "base_uri": "https://localhost:8080/"
        },
        "id": "SHGJXWkSHvjM",
        "outputId": "1abbf2ca-024c-451e-e473-6a5d3429ffea"
      },
      "execution_count": null,
      "outputs": [
        {
          "output_type": "execute_result",
          "data": {
            "text/plain": [
              "(1, 4, 1, 1, 3, 1)"
            ]
          },
          "metadata": {},
          "execution_count": 10
        }
      ]
    },
    {
      "cell_type": "code",
      "source": [
        "max(set(l), key=l.count)"
      ],
      "metadata": {
        "colab": {
          "base_uri": "https://localhost:8080/"
        },
        "id": "AdAS5T6BJL3w",
        "outputId": "6605b002-3e3e-42f9-8853-f2f36d94ce76"
      },
      "execution_count": null,
      "outputs": [
        {
          "output_type": "execute_result",
          "data": {
            "text/plain": [
              "2"
            ]
          },
          "metadata": {},
          "execution_count": 11
        }
      ]
    },
    {
      "cell_type": "markdown",
      "source": [
        "**4. Tira linhas para espaços iniciais e finais e remove novas linhas | Strip lines for start and end spaces and remove new lines**"
      ],
      "metadata": {
        "id": "LX733ht2K113"
      }
    },
    {
      "cell_type": "markdown",
      "source": [
        "Antes de tudo, crie um arquivo de texto e dê o nome de `data`.\n",
        "\n",
        "E coloque o seguinte texto.\n",
        "\n",
        "    Python (programming language)\n",
        "\n",
        "    Python is a high-level, interpreted, general-purpose programming language. \n",
        "    Its design philosophy emphasizes code readability with the use \n",
        "    of significant indentation.\n",
        "\n",
        "    Python is dynamically-typed and garbage-collected. It supports multiple \n",
        "    programming paradigms, including structured (particularly procedural), \n",
        "    object-oriented and functional programming. It is often described \n",
        "    as a \"batteries included\" language due to its comprehensive standard library.\n",
        "\n",
        "    Guido van Rossum began working on Python in the late 1980s as a successor \n",
        "    to the ABC programming language and first released it in 1991 as Python 0.9.0. \n",
        "    Python 2.0 was released in 2000 and introduced new features \n",
        "    such as list comprehensions, cycle-detecting garbage collection, \n",
        "    reference counting, and Unicode support. Python 3.0, released in 2008, \n",
        "    was a major revision that is not completely backward-compatible \n",
        "    with earlier versions. Python 2 was discontinued \n",
        "    with version 2.7.18 in 2020.\n",
        "\n",
        "E em seguida, realizaei o carregamento do arquivo para o seu ambiente de trabalho."
      ],
      "metadata": {
        "id": "WSdHQj22XhJy"
      }
    },
    {
      "cell_type": "code",
      "source": [
        "with open('data.txt') as f:\n",
        "    lines = f.readlines()"
      ],
      "metadata": {
        "id": "EXqVPekVKMOr"
      },
      "execution_count": null,
      "outputs": []
    },
    {
      "cell_type": "code",
      "source": [
        "lines[:3]"
      ],
      "metadata": {
        "colab": {
          "base_uri": "https://localhost:8080/"
        },
        "id": "dg6aWjNkHvfq",
        "outputId": "5600f7f0-3808-434a-de0d-e125b57f9356"
      },
      "execution_count": null,
      "outputs": [
        {
          "output_type": "execute_result",
          "data": {
            "text/plain": [
              "['Python (programming language)\\n',\n",
              " '\\n',\n",
              " 'Python is a high-level, interpreted, general-purpose programming language. \\n']"
            ]
          },
          "metadata": {},
          "execution_count": 20
        }
      ]
    },
    {
      "cell_type": "code",
      "source": [
        "lines = [line.strip() for line in lines]"
      ],
      "metadata": {
        "id": "fxCU3fHnHvcH"
      },
      "execution_count": null,
      "outputs": []
    },
    {
      "cell_type": "code",
      "source": [
        "print(lines[:3])"
      ],
      "metadata": {
        "colab": {
          "base_uri": "https://localhost:8080/"
        },
        "id": "9MC-_i-0HvaG",
        "outputId": "4f16afee-381f-4a0e-d0df-e0bdcb3483cf"
      },
      "execution_count": null,
      "outputs": [
        {
          "output_type": "stream",
          "name": "stdout",
          "text": [
            "['Python (programming language)', '', 'Python is a high-level, interpreted, general-purpose programming language.']\n"
          ]
        }
      ]
    },
    {
      "cell_type": "code",
      "source": [
        "lines = [line for line in lines if len(line) > 0]"
      ],
      "metadata": {
        "id": "MnTC6oe3HvXh"
      },
      "execution_count": null,
      "outputs": []
    },
    {
      "cell_type": "code",
      "source": [
        "lines[:3]"
      ],
      "metadata": {
        "colab": {
          "base_uri": "https://localhost:8080/"
        },
        "id": "sJAFUetsHvRQ",
        "outputId": "a2f2c8ed-cc94-408d-8a30-0e7edecc1cfc"
      },
      "execution_count": null,
      "outputs": [
        {
          "output_type": "execute_result",
          "data": {
            "text/plain": [
              "['Python (programming language)',\n",
              " 'Python is a high-level, interpreted, general-purpose programming language.',\n",
              " 'Its design philosophy emphasizes code readability with the use of significant indentation.']"
            ]
          },
          "metadata": {},
          "execution_count": 25
        }
      ]
    },
    {
      "cell_type": "markdown",
      "source": [
        "**5. Atribuição de várias variáveis | Multiple variable assignment**"
      ],
      "metadata": {
        "id": "0mAWFJQINIq9"
      }
    },
    {
      "cell_type": "code",
      "source": [
        "age, name, weight = 35, 'Fernando', 78.5"
      ],
      "metadata": {
        "id": "PCdgRAPEHvOJ"
      },
      "execution_count": null,
      "outputs": []
    },
    {
      "cell_type": "code",
      "source": [
        "print(age)\n",
        "print(name)\n",
        "print(weight)"
      ],
      "metadata": {
        "colab": {
          "base_uri": "https://localhost:8080/"
        },
        "id": "AVdHMt9ZHvAL",
        "outputId": "76e900c6-9403-45a8-81da-d84813083547"
      },
      "execution_count": null,
      "outputs": [
        {
          "output_type": "stream",
          "name": "stdout",
          "text": [
            "35\n",
            "Fernando\n",
            "78.5\n"
          ]
        }
      ]
    },
    {
      "cell_type": "markdown",
      "source": [
        "**6. Converter uma string em um número | Convert a string into a number**"
      ],
      "metadata": {
        "id": "bVcMIavzOOlv"
      }
    },
    {
      "cell_type": "code",
      "source": [
        "int('27')"
      ],
      "metadata": {
        "colab": {
          "base_uri": "https://localhost:8080/"
        },
        "id": "xP1A-CnNHu0L",
        "outputId": "9a5e8c9a-acba-4b8f-af3e-019006275b52"
      },
      "execution_count": null,
      "outputs": [
        {
          "output_type": "execute_result",
          "data": {
            "text/plain": [
              "27"
            ]
          },
          "metadata": {},
          "execution_count": 28
        }
      ]
    },
    {
      "cell_type": "code",
      "source": [
        "type(int('27'))"
      ],
      "metadata": {
        "colab": {
          "base_uri": "https://localhost:8080/"
        },
        "id": "JL0yAYGqHuqI",
        "outputId": "853c1a2c-d226-4b8d-ddfc-6b11a505fd56"
      },
      "execution_count": null,
      "outputs": [
        {
          "output_type": "execute_result",
          "data": {
            "text/plain": [
              "int"
            ]
          },
          "metadata": {},
          "execution_count": 29
        }
      ]
    },
    {
      "cell_type": "code",
      "source": [
        "s = '27'"
      ],
      "metadata": {
        "id": "GSoPeZ3wHujm"
      },
      "execution_count": null,
      "outputs": []
    },
    {
      "cell_type": "code",
      "source": [
        "a = int(s)"
      ],
      "metadata": {
        "id": "Kc8wPDduHugz"
      },
      "execution_count": null,
      "outputs": []
    },
    {
      "cell_type": "code",
      "source": [
        "a + 1"
      ],
      "metadata": {
        "colab": {
          "base_uri": "https://localhost:8080/"
        },
        "id": "uZjxdBgMHueP",
        "outputId": "e88cd688-ce69-4082-9708-8b3746d37756"
      },
      "execution_count": null,
      "outputs": [
        {
          "output_type": "execute_result",
          "data": {
            "text/plain": [
              "28"
            ]
          },
          "metadata": {},
          "execution_count": 32
        }
      ]
    },
    {
      "cell_type": "markdown",
      "source": [
        "**7. Tipo de conversão de itens de uma lista | Type casting a list items**"
      ],
      "metadata": {
        "id": "wwv6LpzNPPw4"
      }
    },
    {
      "cell_type": "code",
      "source": [
        "l = ['12', '23', '45']\n",
        "\n",
        "print(l)"
      ],
      "metadata": {
        "colab": {
          "base_uri": "https://localhost:8080/"
        },
        "id": "yVnyLAfFHucV",
        "outputId": "9c2f8457-9a5b-4c75-af30-818ae2579210"
      },
      "execution_count": null,
      "outputs": [
        {
          "output_type": "stream",
          "name": "stdout",
          "text": [
            "['12', '23', '45']\n"
          ]
        }
      ]
    },
    {
      "cell_type": "code",
      "source": [
        "type(l)"
      ],
      "metadata": {
        "colab": {
          "base_uri": "https://localhost:8080/"
        },
        "id": "Un6pbMAUHuaB",
        "outputId": "74ce2bdf-4e5f-4311-f161-20e28f08f518"
      },
      "execution_count": null,
      "outputs": [
        {
          "output_type": "execute_result",
          "data": {
            "text/plain": [
              "list"
            ]
          },
          "metadata": {},
          "execution_count": 34
        }
      ]
    },
    {
      "cell_type": "code",
      "source": [
        "items = [int(item) for item in l]\n",
        "\n",
        "print(items)"
      ],
      "metadata": {
        "colab": {
          "base_uri": "https://localhost:8080/"
        },
        "id": "MKqdCJUCHuXt",
        "outputId": "eab5fe1d-b41d-4cef-ea05-3230d0660963"
      },
      "execution_count": null,
      "outputs": [
        {
          "output_type": "stream",
          "name": "stdout",
          "text": [
            "[12, 23, 45]\n"
          ]
        }
      ]
    },
    {
      "cell_type": "code",
      "source": [
        "for item in items:\n",
        "    print(item, type(item))"
      ],
      "metadata": {
        "colab": {
          "base_uri": "https://localhost:8080/"
        },
        "id": "TVfSqMN9GK-E",
        "outputId": "8c18b6a4-a70d-4cf5-bd6a-b8f6a9bbb23d"
      },
      "execution_count": null,
      "outputs": [
        {
          "output_type": "stream",
          "name": "stdout",
          "text": [
            "12 <class 'int'>\n",
            "23 <class 'int'>\n",
            "45 <class 'int'>\n"
          ]
        }
      ]
    },
    {
      "cell_type": "markdown",
      "source": [
        "**8. Encontrar a raiz quadrada de um número | Find the square root of a number**"
      ],
      "metadata": {
        "id": "8TFmxMzbP5po"
      }
    },
    {
      "cell_type": "code",
      "source": [
        "4 ** 0.5"
      ],
      "metadata": {
        "colab": {
          "base_uri": "https://localhost:8080/"
        },
        "id": "5qxaq6AuGK6u",
        "outputId": "8030e952-57f9-47c5-a8ec-2270a9e2362f"
      },
      "execution_count": null,
      "outputs": [
        {
          "output_type": "execute_result",
          "data": {
            "text/plain": [
              "2.0"
            ]
          },
          "metadata": {},
          "execution_count": 37
        }
      ]
    },
    {
      "cell_type": "code",
      "source": [
        "16 ** 0.5"
      ],
      "metadata": {
        "colab": {
          "base_uri": "https://localhost:8080/"
        },
        "id": "qmDwiKo-Pzlo",
        "outputId": "393e8265-7bfc-49d7-f1f2-89c789c1e628"
      },
      "execution_count": null,
      "outputs": [
        {
          "output_type": "execute_result",
          "data": {
            "text/plain": [
              "4.0"
            ]
          },
          "metadata": {},
          "execution_count": 38
        }
      ]
    },
    {
      "cell_type": "code",
      "source": [
        "225 ** 0.5"
      ],
      "metadata": {
        "colab": {
          "base_uri": "https://localhost:8080/"
        },
        "id": "Ju2XN54GPzi9",
        "outputId": "5fc41ca6-a938-4452-f7bf-48c51667cb37"
      },
      "execution_count": null,
      "outputs": [
        {
          "output_type": "execute_result",
          "data": {
            "text/plain": [
              "15.0"
            ]
          },
          "metadata": {},
          "execution_count": 39
        }
      ]
    },
    {
      "cell_type": "code",
      "source": [
        "1_225 ** 0.5"
      ],
      "metadata": {
        "colab": {
          "base_uri": "https://localhost:8080/"
        },
        "id": "YduYSpVDPzgV",
        "outputId": "e038ab25-5675-4cf5-a8e7-f6df8fbca51b"
      },
      "execution_count": null,
      "outputs": [
        {
          "output_type": "execute_result",
          "data": {
            "text/plain": [
              "35.0"
            ]
          },
          "metadata": {},
          "execution_count": 57
        }
      ]
    },
    {
      "cell_type": "markdown",
      "source": [
        "**9. Encontrar a raiz cúbica de um número | Find the cube root af a number**"
      ],
      "metadata": {
        "id": "ihkyKeMsaqqE"
      }
    },
    {
      "cell_type": "code",
      "source": [
        "27 ** (1/3)"
      ],
      "metadata": {
        "colab": {
          "base_uri": "https://localhost:8080/"
        },
        "id": "41GzAMnoPzey",
        "outputId": "fb74195e-61e4-48b3-850e-c8a774156ee6"
      },
      "execution_count": null,
      "outputs": [
        {
          "output_type": "execute_result",
          "data": {
            "text/plain": [
              "3.0"
            ]
          },
          "metadata": {},
          "execution_count": 59
        }
      ]
    },
    {
      "cell_type": "code",
      "source": [
        "125 ** (1/3)"
      ],
      "metadata": {
        "colab": {
          "base_uri": "https://localhost:8080/"
        },
        "id": "eLl7fbR8bWQE",
        "outputId": "2b15a5c5-0ecc-4424-a00e-20c0ec997a48"
      },
      "execution_count": null,
      "outputs": [
        {
          "output_type": "execute_result",
          "data": {
            "text/plain": [
              "4.999999999999999"
            ]
          },
          "metadata": {},
          "execution_count": 73
        }
      ]
    },
    {
      "cell_type": "code",
      "source": [
        "3375 ** (1/3)"
      ],
      "metadata": {
        "colab": {
          "base_uri": "https://localhost:8080/"
        },
        "id": "Ge8HZy_MacMN",
        "outputId": "a19a75e8-8bc8-42aa-d4e0-ae2aa8ae15d4"
      },
      "execution_count": null,
      "outputs": [
        {
          "output_type": "execute_result",
          "data": {
            "text/plain": [
              "14.999999999999998"
            ]
          },
          "metadata": {},
          "execution_count": 72
        }
      ]
    },
    {
      "cell_type": "markdown",
      "source": [
        "**10. Obter o valor absoluto de um número | Get the absolute value of a number**"
      ],
      "metadata": {
        "id": "1XRfnC8PblDX"
      }
    },
    {
      "cell_type": "code",
      "source": [
        "abs(-27)"
      ],
      "metadata": {
        "colab": {
          "base_uri": "https://localhost:8080/"
        },
        "id": "YtH4haabacJY",
        "outputId": "26890e7c-1b80-4224-f390-40c37d7d0306"
      },
      "execution_count": null,
      "outputs": [
        {
          "output_type": "execute_result",
          "data": {
            "text/plain": [
              "27"
            ]
          },
          "metadata": {},
          "execution_count": 74
        }
      ]
    },
    {
      "cell_type": "code",
      "source": [
        "v = -0.001\n",
        "abs(v)"
      ],
      "metadata": {
        "colab": {
          "base_uri": "https://localhost:8080/"
        },
        "id": "sxgSo2U5acEm",
        "outputId": "20723144-80b3-44b8-cc21-f1f4818cbe4d"
      },
      "execution_count": null,
      "outputs": [
        {
          "output_type": "execute_result",
          "data": {
            "text/plain": [
              "0.001"
            ]
          },
          "metadata": {},
          "execution_count": 76
        }
      ]
    },
    {
      "cell_type": "markdown",
      "source": [
        "**11. Arredondar um número para `n` dígitos | Round a number to `n` digits**"
      ],
      "metadata": {
        "id": "UcYi1NtCcELb"
      }
    },
    {
      "cell_type": "code",
      "source": [
        "pi = 3.1415\n",
        "round(pi, 2)"
      ],
      "metadata": {
        "colab": {
          "base_uri": "https://localhost:8080/"
        },
        "id": "Xd2vM4KRacBu",
        "outputId": "f0440148-ab5d-4709-ce3c-798583176864"
      },
      "execution_count": null,
      "outputs": [
        {
          "output_type": "execute_result",
          "data": {
            "text/plain": [
              "3.14"
            ]
          },
          "metadata": {},
          "execution_count": 77
        }
      ]
    },
    {
      "cell_type": "markdown",
      "source": [
        "**12. Crie uma lista de números em um intervalo específico | Create a list of number in specific range**"
      ],
      "metadata": {
        "id": "x_c0j5dQcXxT"
      }
    },
    {
      "cell_type": "code",
      "source": [
        "list(range(5, 15))"
      ],
      "metadata": {
        "colab": {
          "base_uri": "https://localhost:8080/"
        },
        "id": "ygcF2KiDab_H",
        "outputId": "12433b12-fe1b-4b43-f5c7-e0e6f44adc59"
      },
      "execution_count": null,
      "outputs": [
        {
          "output_type": "execute_result",
          "data": {
            "text/plain": [
              "[5, 6, 7, 8, 9, 10, 11, 12, 13, 14]"
            ]
          },
          "metadata": {},
          "execution_count": 78
        }
      ]
    },
    {
      "cell_type": "markdown",
      "source": [
        "**13. Calcular a média de uma lista | Calculate the average of a list**"
      ],
      "metadata": {
        "id": "HP4FESpXct8S"
      }
    },
    {
      "cell_type": "code",
      "source": [
        "values = [1, 5, 7, 13, 24]"
      ],
      "metadata": {
        "id": "3rrPq3GOab8m"
      },
      "execution_count": null,
      "outputs": []
    },
    {
      "cell_type": "code",
      "source": [
        "sum(values)/len(values)"
      ],
      "metadata": {
        "colab": {
          "base_uri": "https://localhost:8080/"
        },
        "id": "L1nelaznab50",
        "outputId": "83e55286-aa00-44eb-a9f7-5643c6c68903"
      },
      "execution_count": null,
      "outputs": [
        {
          "output_type": "execute_result",
          "data": {
            "text/plain": [
              "10.0"
            ]
          },
          "metadata": {},
          "execution_count": 81
        }
      ]
    },
    {
      "cell_type": "markdown",
      "source": [
        "**14. Atribuições `if-else` | `if-else` assignments**"
      ],
      "metadata": {
        "id": "vtzZ-XBLddVJ"
      }
    },
    {
      "cell_type": "code",
      "source": [
        "x = 19\n",
        "\n",
        "res = 10 if x < 20 else 20\n",
        "res"
      ],
      "metadata": {
        "colab": {
          "base_uri": "https://localhost:8080/"
        },
        "id": "bOYUZUz4ab2v",
        "outputId": "43275b55-c3fb-41a7-c9a2-c4c3c5da355d"
      },
      "execution_count": null,
      "outputs": [
        {
          "output_type": "execute_result",
          "data": {
            "text/plain": [
              "10"
            ]
          },
          "metadata": {},
          "execution_count": 89
        }
      ]
    },
    {
      "cell_type": "code",
      "source": [
        "x = 25\n",
        "\n",
        "res = 10 if x < 20 else 20\n",
        "res"
      ],
      "metadata": {
        "colab": {
          "base_uri": "https://localhost:8080/"
        },
        "id": "MI7MwP6Xabzm",
        "outputId": "8536460c-68f8-4a49-9f5a-094359371965"
      },
      "execution_count": null,
      "outputs": [
        {
          "output_type": "execute_result",
          "data": {
            "text/plain": [
              "20"
            ]
          },
          "metadata": {},
          "execution_count": 91
        }
      ]
    },
    {
      "cell_type": "markdown",
      "source": [
        "**15. Achatar uma lista de listas | Flatten a list of lists**"
      ],
      "metadata": {
        "id": "Zp18-TTmebWC"
      }
    },
    {
      "cell_type": "code",
      "source": [
        "list_1 = [[1, 2], [4, 6], [8, 10]]\n",
        "\n",
        "type(list_1)"
      ],
      "metadata": {
        "colab": {
          "base_uri": "https://localhost:8080/"
        },
        "id": "8hXm4U4RabtV",
        "outputId": "bc05f4eb-2862-47d9-952f-6b865b3fdbb8"
      },
      "execution_count": null,
      "outputs": [
        {
          "output_type": "execute_result",
          "data": {
            "text/plain": [
              "list"
            ]
          },
          "metadata": {},
          "execution_count": 96
        }
      ]
    },
    {
      "cell_type": "code",
      "source": [
        "[j for i in list_1 for j in i]"
      ],
      "metadata": {
        "colab": {
          "base_uri": "https://localhost:8080/"
        },
        "id": "zEMi2oWWabpT",
        "outputId": "ce920ee9-3bd2-462a-a211-340234a280b7"
      },
      "execution_count": null,
      "outputs": [
        {
          "output_type": "execute_result",
          "data": {
            "text/plain": [
              "[1, 2, 4, 6, 8, 10]"
            ]
          },
          "metadata": {},
          "execution_count": 97
        }
      ]
    },
    {
      "cell_type": "code",
      "source": [
        "list_2 = [j for i in list_1 for j in i]\n",
        "\n",
        "type(list_2), list_2"
      ],
      "metadata": {
        "colab": {
          "base_uri": "https://localhost:8080/"
        },
        "id": "Auzk-yoBabmp",
        "outputId": "254e8be3-d1e2-4b54-fee2-230ba14026ec"
      },
      "execution_count": null,
      "outputs": [
        {
          "output_type": "execute_result",
          "data": {
            "text/plain": [
              "(list, [1, 2, 4, 6, 8, 10])"
            ]
          },
          "metadata": {},
          "execution_count": 100
        }
      ]
    },
    {
      "cell_type": "markdown",
      "source": [
        "**[Bônus] Palíndromo | [Bonus] Palindrome**\n",
        "\n",
        "- Esta é uma pergunta comum em entrevistas de emprego | This is a common job interview question"
      ],
      "metadata": {
        "id": "sTz1NGaTfftU"
      }
    },
    {
      "cell_type": "code",
      "source": [
        "word = 'racecar'"
      ],
      "metadata": {
        "id": "MuUxnF_2abjV"
      },
      "execution_count": null,
      "outputs": []
    },
    {
      "cell_type": "code",
      "source": [
        "word == word[::-1]"
      ],
      "metadata": {
        "colab": {
          "base_uri": "https://localhost:8080/"
        },
        "id": "J9deqmDnabgP",
        "outputId": "c8af2b84-a999-4083-a5ae-220298946d36"
      },
      "execution_count": null,
      "outputs": [
        {
          "output_type": "execute_result",
          "data": {
            "text/plain": [
              "True"
            ]
          },
          "metadata": {},
          "execution_count": 102
        }
      ]
    },
    {
      "cell_type": "code",
      "source": [
        "word = 'foobar'\n",
        "word == word[::-1]"
      ],
      "metadata": {
        "id": "C8oqE-gXgnVA",
        "outputId": "a4d56df8-2d26-4f22-dfb5-d6fee7ada460",
        "colab": {
          "base_uri": "https://localhost:8080/"
        }
      },
      "execution_count": null,
      "outputs": [
        {
          "output_type": "execute_result",
          "data": {
            "text/plain": [
              "False"
            ]
          },
          "metadata": {},
          "execution_count": 104
        }
      ]
    },
    {
      "cell_type": "code",
      "source": [
        "name = 'Otto'\n",
        "name ==  name[::-1]"
      ],
      "metadata": {
        "colab": {
          "base_uri": "https://localhost:8080/"
        },
        "id": "oOo0b5CgabeP",
        "outputId": "c7d8a06e-d6da-451e-b884-3c85d58d5f18"
      },
      "execution_count": null,
      "outputs": [
        {
          "output_type": "execute_result",
          "data": {
            "text/plain": [
              "False"
            ]
          },
          "metadata": {},
          "execution_count": 103
        }
      ]
    },
    {
      "cell_type": "code",
      "source": [
        ""
      ],
      "metadata": {
        "id": "Q9Zf0wboabGN"
      },
      "execution_count": null,
      "outputs": []
    },
    {
      "cell_type": "code",
      "source": [
        ""
      ],
      "metadata": {
        "id": "_FQfm3XDPzcU"
      },
      "execution_count": null,
      "outputs": []
    },
    {
      "cell_type": "code",
      "source": [
        ""
      ],
      "metadata": {
        "id": "oy9Q_Q5sPzaq"
      },
      "execution_count": null,
      "outputs": []
    }
  ]
}