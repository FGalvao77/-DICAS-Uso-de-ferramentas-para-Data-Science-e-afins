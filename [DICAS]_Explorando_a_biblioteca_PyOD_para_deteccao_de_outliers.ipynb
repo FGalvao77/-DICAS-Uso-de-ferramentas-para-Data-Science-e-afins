{
  "cells": [
    {
      "cell_type": "markdown",
      "metadata": {
        "id": "view-in-github",
        "colab_type": "text"
      },
      "source": [
        "<a href=\"https://colab.research.google.com/github/FGalvao77/-DICAS-Uso-de-ferramentas-para-Data-Science-e-afins/blob/main/%5BDICAS%5D_Explorando_a_biblioteca_PyOD_para_deteccao_de_outliers.ipynb\" target=\"_parent\"><img src=\"https://colab.research.google.com/assets/colab-badge.svg\" alt=\"Open In Colab\"/></a>"
      ]
    },
    {
      "cell_type": "markdown",
      "id": "151cec8f-0140-460e-8d70-f6bb2bce9592",
      "metadata": {
        "id": "151cec8f-0140-460e-8d70-f6bb2bce9592"
      },
      "source": [
        "## **[DICAS] - Explorando a biblioteca `PyOD` para detecção de _outliers_**\n",
        "---"
      ]
    },
    {
      "cell_type": "markdown",
      "id": "f0d2683b-91a7-4f1c-8e91-f09061a340b3",
      "metadata": {
        "id": "f0d2683b-91a7-4f1c-8e91-f09061a340b3"
      },
      "source": [
        "Nesse notebook iremos explorar a biblioteca `PyOD` para detecção de _outliers_ ou anomalias em conjunto de dados.\n",
        "\n",
        "Utilizando a função **generate_data** iremos gerar dados sintéticos e a função **KNN** (K-nearest neighbors, ou “K-vizinhos mais próximos”) da mesma biblioteca para aplicação de técnicas baseado em proximidade para \"rotular\" os _outliers_.\n",
        "\n"
      ]
    },
    {
      "cell_type": "markdown",
      "id": "fdc226f7-0d1b-4ab3-b2a5-bdbb3ce0da1c",
      "metadata": {
        "id": "fdc226f7-0d1b-4ab3-b2a5-bdbb3ce0da1c"
      },
      "source": [
        "**Saiba mais!**\n",
        "- [Welcome to PyOD documentation!](https://pyod.readthedocs.io/en/latest/)"
      ]
    },
    {
      "cell_type": "markdown",
      "id": "0cbd0354-dc0b-4b88-bca8-c6d76fb08597",
      "metadata": {
        "id": "0cbd0354-dc0b-4b88-bca8-c6d76fb08597"
      },
      "source": [
        "Para instalar a _library_ utilize o comando abaixo.\n",
        "\n",
        "`pip install pyod`"
      ]
    },
    {
      "cell_type": "code",
      "source": [
        "!pip install pyod"
      ],
      "metadata": {
        "colab": {
          "base_uri": "https://localhost:8080/"
        },
        "id": "-kI-E22hPPj_",
        "outputId": "1a900430-4017-4142-a586-27e18da15ce6"
      },
      "id": "-kI-E22hPPj_",
      "execution_count": null,
      "outputs": [
        {
          "output_type": "stream",
          "name": "stdout",
          "text": [
            "Looking in indexes: https://pypi.org/simple, https://us-python.pkg.dev/colab-wheels/public/simple/\n",
            "Requirement already satisfied: pyod in /usr/local/lib/python3.7/dist-packages (1.0.3)\n",
            "Requirement already satisfied: matplotlib in /usr/local/lib/python3.7/dist-packages (from pyod) (3.2.2)\n",
            "Requirement already satisfied: six in /usr/local/lib/python3.7/dist-packages (from pyod) (1.15.0)\n",
            "Requirement already satisfied: numpy>=1.19 in /usr/local/lib/python3.7/dist-packages (from pyod) (1.21.6)\n",
            "Requirement already satisfied: joblib in /usr/local/lib/python3.7/dist-packages (from pyod) (1.1.0)\n",
            "Requirement already satisfied: numba>=0.51 in /usr/local/lib/python3.7/dist-packages (from pyod) (0.51.2)\n",
            "Requirement already satisfied: statsmodels in /usr/local/lib/python3.7/dist-packages (from pyod) (0.10.2)\n",
            "Requirement already satisfied: scipy>=1.5.1 in /usr/local/lib/python3.7/dist-packages (from pyod) (1.7.3)\n",
            "Requirement already satisfied: scikit-learn>=0.20.0 in /usr/local/lib/python3.7/dist-packages (from pyod) (1.0.2)\n",
            "Requirement already satisfied: setuptools in /usr/local/lib/python3.7/dist-packages (from numba>=0.51->pyod) (57.4.0)\n",
            "Requirement already satisfied: llvmlite<0.35,>=0.34.0.dev0 in /usr/local/lib/python3.7/dist-packages (from numba>=0.51->pyod) (0.34.0)\n",
            "Requirement already satisfied: threadpoolctl>=2.0.0 in /usr/local/lib/python3.7/dist-packages (from scikit-learn>=0.20.0->pyod) (3.1.0)\n",
            "Requirement already satisfied: kiwisolver>=1.0.1 in /usr/local/lib/python3.7/dist-packages (from matplotlib->pyod) (1.4.3)\n",
            "Requirement already satisfied: python-dateutil>=2.1 in /usr/local/lib/python3.7/dist-packages (from matplotlib->pyod) (2.8.2)\n",
            "Requirement already satisfied: cycler>=0.10 in /usr/local/lib/python3.7/dist-packages (from matplotlib->pyod) (0.11.0)\n",
            "Requirement already satisfied: pyparsing!=2.0.4,!=2.1.2,!=2.1.6,>=2.0.1 in /usr/local/lib/python3.7/dist-packages (from matplotlib->pyod) (3.0.9)\n",
            "Requirement already satisfied: typing-extensions in /usr/local/lib/python3.7/dist-packages (from kiwisolver>=1.0.1->matplotlib->pyod) (4.1.1)\n",
            "Requirement already satisfied: patsy>=0.4.0 in /usr/local/lib/python3.7/dist-packages (from statsmodels->pyod) (0.5.2)\n",
            "Requirement already satisfied: pandas>=0.19 in /usr/local/lib/python3.7/dist-packages (from statsmodels->pyod) (1.3.5)\n",
            "Requirement already satisfied: pytz>=2017.3 in /usr/local/lib/python3.7/dist-packages (from pandas>=0.19->statsmodels->pyod) (2022.1)\n"
          ]
        }
      ]
    },
    {
      "cell_type": "code",
      "execution_count": null,
      "id": "12fc5a33-52ed-4f74-bc9a-78379cf26707",
      "metadata": {
        "id": "12fc5a33-52ed-4f74-bc9a-78379cf26707"
      },
      "outputs": [],
      "source": [
        "# importando as bibliotecas\n",
        "import pandas as pd                       # análise e manipulação de dados\n",
        "import numpy as np                        # recursos matemáticos\n",
        "import matplotlib.pyplot as plt           # visualização gráfica\n",
        "import seaborn as sns                     # visualização gráfica\n",
        "from pyod.utils.data import generate_data # gerar dados sintéticos\n",
        "\n",
        "# configurando o ambiente de exibição\n",
        "%matplotlib inline\n",
        "sns.set()"
      ]
    },
    {
      "cell_type": "code",
      "execution_count": null,
      "id": "bfbe5c08-4977-4409-83a7-979608256874",
      "metadata": {
        "colab": {
          "base_uri": "https://localhost:8080/"
        },
        "id": "bfbe5c08-4977-4409-83a7-979608256874",
        "outputId": "30c48af5-fff9-4486-e6f6-ff005e69c847"
      },
      "outputs": [
        {
          "output_type": "execute_result",
          "data": {
            "text/plain": [
              "(1000, 1000)"
            ]
          },
          "metadata": {},
          "execution_count": 3
        }
      ],
      "source": [
        "# utilizando a função \"generate_data\" para gerar os dados de treino e teste de duas dimensões\n",
        "Xtrain, ytrain = generate_data(n_train=1_000, train_only=True, n_features=2)\n",
        "\n",
        "# contabilizando a quantidade de observações em cada subconjunto\n",
        "len(Xtrain), len(ytrain)"
      ]
    },
    {
      "cell_type": "code",
      "execution_count": null,
      "id": "09dd281f-6e6e-416a-b05a-0123276aa6a9",
      "metadata": {
        "colab": {
          "base_uri": "https://localhost:8080/"
        },
        "id": "09dd281f-6e6e-416a-b05a-0123276aa6a9",
        "outputId": "3660a834-7636-42f1-9732-14420ad5df2e"
      },
      "outputs": [
        {
          "output_type": "stream",
          "name": "stdout",
          "text": [
            "[[7.9629593  8.00483967]\n",
            " [7.93127408 7.84885428]\n",
            " [8.11004898 7.88686558]\n",
            " [7.98124711 8.11828299]\n",
            " [7.97517479 8.08169979]\n",
            " [8.10045585 7.94080766]\n",
            " [7.90148012 8.1474421 ]\n",
            " [8.16046709 7.98760085]\n",
            " [7.92417522 7.83925445]\n",
            " [8.12701494 7.96151897]]\n",
            "\n",
            "[0. 0. 0. 0. 0. 0. 0. 0. 0. 0.]\n"
          ]
        }
      ],
      "source": [
        "# visualizando as 10 primeiras observações dos dados de treino e teste\n",
        "print(\n",
        "    Xtrain[:10], \n",
        "    ytrain[:10], \n",
        "    sep='\\n\\n'\n",
        ")"
      ]
    },
    {
      "cell_type": "code",
      "execution_count": null,
      "id": "01397b24-6cf7-4e3a-9c54-f1d6f8170860",
      "metadata": {
        "id": "01397b24-6cf7-4e3a-9c54-f1d6f8170860"
      },
      "outputs": [],
      "source": [
        "# realizando redimensionamento dos dados\n",
        "data_x = Xtrain[:, [0]].reshape(-1,1)\n",
        "data_y = Xtrain[:, [1]].reshape(-1,1)"
      ]
    },
    {
      "cell_type": "code",
      "source": [
        "print(f'data_x:\\n{data_x[:5]}', \n",
        "      f'data_y:\\n{data_y[:5]}', \n",
        "      sep='\\n\\n')"
      ],
      "metadata": {
        "colab": {
          "base_uri": "https://localhost:8080/"
        },
        "id": "C6GCRkfxQLP6",
        "outputId": "1753fd6e-579c-43fc-e3ae-0b55d3a6cfac"
      },
      "id": "C6GCRkfxQLP6",
      "execution_count": null,
      "outputs": [
        {
          "output_type": "stream",
          "name": "stdout",
          "text": [
            "data_x:\n",
            "[[7.9629593 ]\n",
            " [7.93127408]\n",
            " [8.11004898]\n",
            " [7.98124711]\n",
            " [7.97517479]]\n",
            "\n",
            "data_y:\n",
            "[[8.00483967]\n",
            " [7.84885428]\n",
            " [7.88686558]\n",
            " [8.11828299]\n",
            " [8.08169979]]\n"
          ]
        }
      ]
    },
    {
      "cell_type": "code",
      "execution_count": null,
      "id": "09dd9c83-8458-43bb-a984-bfa18cadcce7",
      "metadata": {
        "id": "09dd9c83-8458-43bb-a984-bfa18cadcce7"
      },
      "outputs": [],
      "source": [
        "# gerando um data frame com os dados do objeto \"data_x\"\n",
        "df = pd.DataFrame(data_x, columns=['x'])\n",
        "\n",
        "# criando a coluna \"y\" e inserindo os dados do objeto \"data_y\"\n",
        "df['y'] = data_y\n",
        "\n",
        "# criando a coluna \"class\" e inserindo os dados do objeto \"y_train\"\n",
        "df['class'] = ytrain"
      ]
    },
    {
      "cell_type": "code",
      "execution_count": null,
      "id": "645fa5c9-f2d0-48a0-afa8-34cdc5d5041d",
      "metadata": {
        "id": "645fa5c9-f2d0-48a0-afa8-34cdc5d5041d",
        "colab": {
          "base_uri": "https://localhost:8080/",
          "height": 520
        },
        "outputId": "4856deb6-d4e7-4052-fe26-c84c517ee809"
      },
      "outputs": [
        {
          "output_type": "execute_result",
          "data": {
            "text/plain": [
              "           x         y  class\n",
              "0   7.962959  8.004840    0.0\n",
              "1   7.931274  7.848854    0.0\n",
              "2   8.110049  7.886866    0.0\n",
              "3   7.981247  8.118283    0.0\n",
              "4   7.975175  8.081700    0.0\n",
              "5   8.100456  7.940808    0.0\n",
              "6   7.901480  8.147442    0.0\n",
              "7   8.160467  7.987601    0.0\n",
              "8   7.924175  7.839254    0.0\n",
              "9   8.127015  7.961519    0.0\n",
              "10  8.060223  8.090433    0.0\n",
              "11  8.018019  7.935476    0.0\n",
              "12  7.909118  7.994900    0.0\n",
              "13  8.055735  8.100192    0.0\n",
              "14  7.894157  8.133181    0.0"
            ],
            "text/html": [
              "\n",
              "  <div id=\"df-bb140ff4-d7a0-4b16-8340-8faaed9cae60\">\n",
              "    <div class=\"colab-df-container\">\n",
              "      <div>\n",
              "<style scoped>\n",
              "    .dataframe tbody tr th:only-of-type {\n",
              "        vertical-align: middle;\n",
              "    }\n",
              "\n",
              "    .dataframe tbody tr th {\n",
              "        vertical-align: top;\n",
              "    }\n",
              "\n",
              "    .dataframe thead th {\n",
              "        text-align: right;\n",
              "    }\n",
              "</style>\n",
              "<table border=\"1\" class=\"dataframe\">\n",
              "  <thead>\n",
              "    <tr style=\"text-align: right;\">\n",
              "      <th></th>\n",
              "      <th>x</th>\n",
              "      <th>y</th>\n",
              "      <th>class</th>\n",
              "    </tr>\n",
              "  </thead>\n",
              "  <tbody>\n",
              "    <tr>\n",
              "      <th>0</th>\n",
              "      <td>7.962959</td>\n",
              "      <td>8.004840</td>\n",
              "      <td>0.0</td>\n",
              "    </tr>\n",
              "    <tr>\n",
              "      <th>1</th>\n",
              "      <td>7.931274</td>\n",
              "      <td>7.848854</td>\n",
              "      <td>0.0</td>\n",
              "    </tr>\n",
              "    <tr>\n",
              "      <th>2</th>\n",
              "      <td>8.110049</td>\n",
              "      <td>7.886866</td>\n",
              "      <td>0.0</td>\n",
              "    </tr>\n",
              "    <tr>\n",
              "      <th>3</th>\n",
              "      <td>7.981247</td>\n",
              "      <td>8.118283</td>\n",
              "      <td>0.0</td>\n",
              "    </tr>\n",
              "    <tr>\n",
              "      <th>4</th>\n",
              "      <td>7.975175</td>\n",
              "      <td>8.081700</td>\n",
              "      <td>0.0</td>\n",
              "    </tr>\n",
              "    <tr>\n",
              "      <th>5</th>\n",
              "      <td>8.100456</td>\n",
              "      <td>7.940808</td>\n",
              "      <td>0.0</td>\n",
              "    </tr>\n",
              "    <tr>\n",
              "      <th>6</th>\n",
              "      <td>7.901480</td>\n",
              "      <td>8.147442</td>\n",
              "      <td>0.0</td>\n",
              "    </tr>\n",
              "    <tr>\n",
              "      <th>7</th>\n",
              "      <td>8.160467</td>\n",
              "      <td>7.987601</td>\n",
              "      <td>0.0</td>\n",
              "    </tr>\n",
              "    <tr>\n",
              "      <th>8</th>\n",
              "      <td>7.924175</td>\n",
              "      <td>7.839254</td>\n",
              "      <td>0.0</td>\n",
              "    </tr>\n",
              "    <tr>\n",
              "      <th>9</th>\n",
              "      <td>8.127015</td>\n",
              "      <td>7.961519</td>\n",
              "      <td>0.0</td>\n",
              "    </tr>\n",
              "    <tr>\n",
              "      <th>10</th>\n",
              "      <td>8.060223</td>\n",
              "      <td>8.090433</td>\n",
              "      <td>0.0</td>\n",
              "    </tr>\n",
              "    <tr>\n",
              "      <th>11</th>\n",
              "      <td>8.018019</td>\n",
              "      <td>7.935476</td>\n",
              "      <td>0.0</td>\n",
              "    </tr>\n",
              "    <tr>\n",
              "      <th>12</th>\n",
              "      <td>7.909118</td>\n",
              "      <td>7.994900</td>\n",
              "      <td>0.0</td>\n",
              "    </tr>\n",
              "    <tr>\n",
              "      <th>13</th>\n",
              "      <td>8.055735</td>\n",
              "      <td>8.100192</td>\n",
              "      <td>0.0</td>\n",
              "    </tr>\n",
              "    <tr>\n",
              "      <th>14</th>\n",
              "      <td>7.894157</td>\n",
              "      <td>8.133181</td>\n",
              "      <td>0.0</td>\n",
              "    </tr>\n",
              "  </tbody>\n",
              "</table>\n",
              "</div>\n",
              "      <button class=\"colab-df-convert\" onclick=\"convertToInteractive('df-bb140ff4-d7a0-4b16-8340-8faaed9cae60')\"\n",
              "              title=\"Convert this dataframe to an interactive table.\"\n",
              "              style=\"display:none;\">\n",
              "        \n",
              "  <svg xmlns=\"http://www.w3.org/2000/svg\" height=\"24px\"viewBox=\"0 0 24 24\"\n",
              "       width=\"24px\">\n",
              "    <path d=\"M0 0h24v24H0V0z\" fill=\"none\"/>\n",
              "    <path d=\"M18.56 5.44l.94 2.06.94-2.06 2.06-.94-2.06-.94-.94-2.06-.94 2.06-2.06.94zm-11 1L8.5 8.5l.94-2.06 2.06-.94-2.06-.94L8.5 2.5l-.94 2.06-2.06.94zm10 10l.94 2.06.94-2.06 2.06-.94-2.06-.94-.94-2.06-.94 2.06-2.06.94z\"/><path d=\"M17.41 7.96l-1.37-1.37c-.4-.4-.92-.59-1.43-.59-.52 0-1.04.2-1.43.59L10.3 9.45l-7.72 7.72c-.78.78-.78 2.05 0 2.83L4 21.41c.39.39.9.59 1.41.59.51 0 1.02-.2 1.41-.59l7.78-7.78 2.81-2.81c.8-.78.8-2.07 0-2.86zM5.41 20L4 18.59l7.72-7.72 1.47 1.35L5.41 20z\"/>\n",
              "  </svg>\n",
              "      </button>\n",
              "      \n",
              "  <style>\n",
              "    .colab-df-container {\n",
              "      display:flex;\n",
              "      flex-wrap:wrap;\n",
              "      gap: 12px;\n",
              "    }\n",
              "\n",
              "    .colab-df-convert {\n",
              "      background-color: #E8F0FE;\n",
              "      border: none;\n",
              "      border-radius: 50%;\n",
              "      cursor: pointer;\n",
              "      display: none;\n",
              "      fill: #1967D2;\n",
              "      height: 32px;\n",
              "      padding: 0 0 0 0;\n",
              "      width: 32px;\n",
              "    }\n",
              "\n",
              "    .colab-df-convert:hover {\n",
              "      background-color: #E2EBFA;\n",
              "      box-shadow: 0px 1px 2px rgba(60, 64, 67, 0.3), 0px 1px 3px 1px rgba(60, 64, 67, 0.15);\n",
              "      fill: #174EA6;\n",
              "    }\n",
              "\n",
              "    [theme=dark] .colab-df-convert {\n",
              "      background-color: #3B4455;\n",
              "      fill: #D2E3FC;\n",
              "    }\n",
              "\n",
              "    [theme=dark] .colab-df-convert:hover {\n",
              "      background-color: #434B5C;\n",
              "      box-shadow: 0px 1px 3px 1px rgba(0, 0, 0, 0.15);\n",
              "      filter: drop-shadow(0px 1px 2px rgba(0, 0, 0, 0.3));\n",
              "      fill: #FFFFFF;\n",
              "    }\n",
              "  </style>\n",
              "\n",
              "      <script>\n",
              "        const buttonEl =\n",
              "          document.querySelector('#df-bb140ff4-d7a0-4b16-8340-8faaed9cae60 button.colab-df-convert');\n",
              "        buttonEl.style.display =\n",
              "          google.colab.kernel.accessAllowed ? 'block' : 'none';\n",
              "\n",
              "        async function convertToInteractive(key) {\n",
              "          const element = document.querySelector('#df-bb140ff4-d7a0-4b16-8340-8faaed9cae60');\n",
              "          const dataTable =\n",
              "            await google.colab.kernel.invokeFunction('convertToInteractive',\n",
              "                                                     [key], {});\n",
              "          if (!dataTable) return;\n",
              "\n",
              "          const docLinkHtml = 'Like what you see? Visit the ' +\n",
              "            '<a target=\"_blank\" href=https://colab.research.google.com/notebooks/data_table.ipynb>data table notebook</a>'\n",
              "            + ' to learn more about interactive tables.';\n",
              "          element.innerHTML = '';\n",
              "          dataTable['output_type'] = 'display_data';\n",
              "          await google.colab.output.renderOutput(dataTable, element);\n",
              "          const docLink = document.createElement('div');\n",
              "          docLink.innerHTML = docLinkHtml;\n",
              "          element.appendChild(docLink);\n",
              "        }\n",
              "      </script>\n",
              "    </div>\n",
              "  </div>\n",
              "  "
            ]
          },
          "metadata": {},
          "execution_count": 8
        }
      ],
      "source": [
        "# visualizando as 15 primeiras observações\n",
        "df.head(15)"
      ]
    },
    {
      "cell_type": "code",
      "execution_count": null,
      "id": "8bfa905b-98b2-4172-b8dd-2ba38e327b38",
      "metadata": {
        "id": "8bfa905b-98b2-4172-b8dd-2ba38e327b38",
        "colab": {
          "base_uri": "https://localhost:8080/"
        },
        "outputId": "778ea3e2-0b30-47be-b46c-d40395ec48e4"
      },
      "outputs": [
        {
          "output_type": "execute_result",
          "data": {
            "text/plain": [
              "0.0    90.0\n",
              "1.0    10.0\n",
              "Name: class, dtype: float64"
            ]
          },
          "metadata": {},
          "execution_count": 9
        }
      ],
      "source": [
        "# contabilizando a distribuição das classes presentes na coluna \"class\"\n",
        "df['class'].value_counts(normalize=True) * 100 "
      ]
    },
    {
      "cell_type": "code",
      "execution_count": null,
      "id": "6abc6241-f5a3-405a-84e4-8e0c0a6ebe89",
      "metadata": {
        "id": "6abc6241-f5a3-405a-84e4-8e0c0a6ebe89",
        "colab": {
          "base_uri": "https://localhost:8080/",
          "height": 465
        },
        "outputId": "93d5a10a-8563-4649-c878-93daf23261ce"
      },
      "outputs": [
        {
          "output_type": "display_data",
          "data": {
            "text/plain": [
              "<Figure size 1296x504 with 1 Axes>"
            ],
            "image/png": "[encoded data removed]"
          },
          "metadata": {}
        }
      ],
      "source": [
        "# visualizando graficamente a dispersão dos dados\n",
        "plt.style.use('ggplot')\n",
        "plt.figure(figsize=(18,7))\n",
        "plt.title('Data analysis', loc='left')\n",
        "sns.scatterplot(data=df, x='x', y='y', hue='class');"
      ]
    },
    {
      "cell_type": "code",
      "execution_count": null,
      "id": "e77f779e-d8d2-40e6-8609-b7309c32a0a3",
      "metadata": {
        "id": "e77f779e-d8d2-40e6-8609-b7309c32a0a3",
        "colab": {
          "base_uri": "https://localhost:8080/",
          "height": 465
        },
        "outputId": "b1ba41b0-abd6-40a0-939a-1c2308098ef8"
      },
      "outputs": [
        {
          "output_type": "display_data",
          "data": {
            "text/plain": [
              "<Figure size 1296x504 with 2 Axes>"
            ],
            "image/png": "[encoded data removed]"
          },
          "metadata": {}
        }
      ],
      "source": [
        "# plotando o boxplot da distribuição dos dados - x data e y data\n",
        "plt.figure(figsize=(18,7))\n",
        "\n",
        "plt.subplot(211)\n",
        "plt.title('x data', loc='left')\n",
        "sns.boxplot(data=df, x='x', width=0.35, palette='husl');\n",
        "\n",
        "plt.subplot(212)\n",
        "plt.title('y data', loc='left')\n",
        "sns.boxplot(data=df, x='y', width=0.35);"
      ]
    },
    {
      "cell_type": "code",
      "execution_count": null,
      "id": "041fe671-7ca8-4ff6-bca4-a076c60c234c",
      "metadata": {
        "id": "041fe671-7ca8-4ff6-bca4-a076c60c234c"
      },
      "outputs": [],
      "source": [
        "# importando a função \"KNN\"\n",
        "from pyod.models.knn import KNN"
      ]
    },
    {
      "cell_type": "code",
      "execution_count": null,
      "id": "04d9bcee-21f0-47ba-b135-914b440f29af",
      "metadata": {
        "id": "04d9bcee-21f0-47ba-b135-914b440f29af",
        "colab": {
          "base_uri": "https://localhost:8080/"
        },
        "outputId": "a0bf220e-c6bf-4b32-ebbf-3e813a615c6a"
      },
      "outputs": [
        {
          "output_type": "execute_result",
          "data": {
            "text/plain": [
              "KNN(algorithm='auto', contamination=0.1, leaf_size=30, method='largest',\n",
              "  metric='minkowski', metric_params=None, n_jobs=-1, n_neighbors=5, p=2,\n",
              "  radius=1.0)"
            ]
          },
          "metadata": {},
          "execution_count": 13
        }
      ],
      "source": [
        "# instanciando o modelo\n",
        "mdl_knn = KNN(\n",
        "    contamination=0.1,\n",
        "    n_neighbors=5,\n",
        "    method='largest',\n",
        "    radius=1.0,\n",
        "    algorithm='auto',\n",
        "    leaf_size=30,\n",
        "    metric='minkowski',\n",
        "    p=2,\n",
        "    metric_params=None,\n",
        "    n_jobs=-1\n",
        ")\n",
        "\n",
        "# visualizando o modelo\n",
        "mdl_knn"
      ]
    },
    {
      "cell_type": "code",
      "execution_count": null,
      "id": "fb6e06c5-0d5a-422a-92af-bd6204947bd1",
      "metadata": {
        "id": "fb6e06c5-0d5a-422a-92af-bd6204947bd1",
        "colab": {
          "base_uri": "https://localhost:8080/"
        },
        "outputId": "fa605c37-a546-42b1-eea3-b457440cf02e"
      },
      "outputs": [
        {
          "output_type": "execute_result",
          "data": {
            "text/plain": [
              "KNN(algorithm='auto', contamination=0.1, leaf_size=30, method='largest',\n",
              "  metric='minkowski', metric_params=None, n_jobs=-1, n_neighbors=5, p=2,\n",
              "  radius=1.0)"
            ]
          },
          "metadata": {},
          "execution_count": 14
        }
      ],
      "source": [
        "# treinando o modelo\n",
        "mdl_knn.fit(df.iloc[:, 0:2])"
      ]
    },
    {
      "cell_type": "code",
      "execution_count": null,
      "id": "73c9b3cf-0980-41b7-9763-bb1d67cf57c0",
      "metadata": {
        "id": "73c9b3cf-0980-41b7-9763-bb1d67cf57c0",
        "colab": {
          "base_uri": "https://localhost:8080/"
        },
        "outputId": "70057e14-a4d0-4e11-f35b-ea05bb77969d"
      },
      "outputs": [
        {
          "output_type": "stream",
          "name": "stdout",
          "text": [
            "[0 0 0 0 0 0 0 0 0 0 0 0 0 0 0 0 0 0 0 0 0 0 0 0 0 0 0 0 0 0]\n",
            "\n",
            "[1 1 1 1 1 1 1 1 1 1 1 1 1 1 1 1 1 1 1 1 1 1 1 1 1 1 1 1 1 1]\n"
          ]
        }
      ],
      "source": [
        "# viualizando as predições realizadas pelo modelo\n",
        "pred = mdl_knn.labels_\n",
        "\n",
        "print(\n",
        "    pred[:30],          # as 30 primeiras\n",
        "    pred[-30:],         # as 30 últimas\n",
        "    sep='\\n\\n'\n",
        ")"
      ]
    },
    {
      "cell_type": "code",
      "execution_count": null,
      "id": "96135357-8461-4878-8120-2eb706c34ff3",
      "metadata": {
        "id": "96135357-8461-4878-8120-2eb706c34ff3"
      },
      "outputs": [],
      "source": [
        "# instanciando as predições únicas e salvando no objeto \"analysis\"\n",
        "analysis = np.unique(pred, return_counts=True)\n",
        "\n",
        "# instanciando o \"score\" do índice de confiança realizado pelo modelo\n",
        "conf = mdl_knn.decision_scores_"
      ]
    },
    {
      "cell_type": "code",
      "execution_count": null,
      "id": "7af496d2-566e-4fbd-92ad-e46ec470233d",
      "metadata": {
        "id": "7af496d2-566e-4fbd-92ad-e46ec470233d",
        "colab": {
          "base_uri": "https://localhost:8080/",
          "height": 677
        },
        "outputId": "39d7e9ae-53a3-4a11-f2cf-0034a6690e70"
      },
      "outputs": [
        {
          "output_type": "execute_result",
          "data": {
            "text/plain": [
              "           x         y  class  predicted  confidence\n",
              "0   7.962959  8.004840    0.0          0    0.009798\n",
              "1   7.931274  7.848854    0.0          0    0.017549\n",
              "2   8.110049  7.886866    0.0          0    0.010154\n",
              "3   7.981247  8.118283    0.0          0    0.014843\n",
              "4   7.975175  8.081700    0.0          0    0.010317\n",
              "5   8.100456  7.940808    0.0          0    0.014825\n",
              "6   7.901480  8.147442    0.0          0    0.017175\n",
              "7   8.160467  7.987601    0.0          0    0.011460\n",
              "8   7.924175  7.839254    0.0          0    0.017355\n",
              "9   8.127015  7.961519    0.0          0    0.011720\n",
              "10  8.060223  8.090433    0.0          0    0.011342\n",
              "11  8.018019  7.935476    0.0          0    0.008865\n",
              "12  7.909118  7.994900    0.0          0    0.008841\n",
              "13  8.055735  8.100192    0.0          0    0.013955\n",
              "14  7.894157  8.133181    0.0          0    0.013589\n",
              "15  8.010828  7.924540    0.0          0    0.008352\n",
              "16  7.900314  7.944895    0.0          0    0.016072\n",
              "17  8.107563  8.005443    0.0          0    0.017030\n",
              "18  8.011288  8.029382    0.0          0    0.011196\n",
              "19  7.916213  8.057154    0.0          0    0.011809"
            ],
            "text/html": [
              "\n",
              "  <div id=\"df-3f8cd611-0689-4f69-bc11-2f2af54dd626\">\n",
              "    <div class=\"colab-df-container\">\n",
              "      <div>\n",
              "<style scoped>\n",
              "    .dataframe tbody tr th:only-of-type {\n",
              "        vertical-align: middle;\n",
              "    }\n",
              "\n",
              "    .dataframe tbody tr th {\n",
              "        vertical-align: top;\n",
              "    }\n",
              "\n",
              "    .dataframe thead th {\n",
              "        text-align: right;\n",
              "    }\n",
              "</style>\n",
              "<table border=\"1\" class=\"dataframe\">\n",
              "  <thead>\n",
              "    <tr style=\"text-align: right;\">\n",
              "      <th></th>\n",
              "      <th>x</th>\n",
              "      <th>y</th>\n",
              "      <th>class</th>\n",
              "      <th>predicted</th>\n",
              "      <th>confidence</th>\n",
              "    </tr>\n",
              "  </thead>\n",
              "  <tbody>\n",
              "    <tr>\n",
              "      <th>0</th>\n",
              "      <td>7.962959</td>\n",
              "      <td>8.004840</td>\n",
              "      <td>0.0</td>\n",
              "      <td>0</td>\n",
              "      <td>0.009798</td>\n",
              "    </tr>\n",
              "    <tr>\n",
              "      <th>1</th>\n",
              "      <td>7.931274</td>\n",
              "      <td>7.848854</td>\n",
              "      <td>0.0</td>\n",
              "      <td>0</td>\n",
              "      <td>0.017549</td>\n",
              "    </tr>\n",
              "    <tr>\n",
              "      <th>2</th>\n",
              "      <td>8.110049</td>\n",
              "      <td>7.886866</td>\n",
              "      <td>0.0</td>\n",
              "      <td>0</td>\n",
              "      <td>0.010154</td>\n",
              "    </tr>\n",
              "    <tr>\n",
              "      <th>3</th>\n",
              "      <td>7.981247</td>\n",
              "      <td>8.118283</td>\n",
              "      <td>0.0</td>\n",
              "      <td>0</td>\n",
              "      <td>0.014843</td>\n",
              "    </tr>\n",
              "    <tr>\n",
              "      <th>4</th>\n",
              "      <td>7.975175</td>\n",
              "      <td>8.081700</td>\n",
              "      <td>0.0</td>\n",
              "      <td>0</td>\n",
              "      <td>0.010317</td>\n",
              "    </tr>\n",
              "    <tr>\n",
              "      <th>5</th>\n",
              "      <td>8.100456</td>\n",
              "      <td>7.940808</td>\n",
              "      <td>0.0</td>\n",
              "      <td>0</td>\n",
              "      <td>0.014825</td>\n",
              "    </tr>\n",
              "    <tr>\n",
              "      <th>6</th>\n",
              "      <td>7.901480</td>\n",
              "      <td>8.147442</td>\n",
              "      <td>0.0</td>\n",
              "      <td>0</td>\n",
              "      <td>0.017175</td>\n",
              "    </tr>\n",
              "    <tr>\n",
              "      <th>7</th>\n",
              "      <td>8.160467</td>\n",
              "      <td>7.987601</td>\n",
              "      <td>0.0</td>\n",
              "      <td>0</td>\n",
              "      <td>0.011460</td>\n",
              "    </tr>\n",
              "    <tr>\n",
              "      <th>8</th>\n",
              "      <td>7.924175</td>\n",
              "      <td>7.839254</td>\n",
              "      <td>0.0</td>\n",
              "      <td>0</td>\n",
              "      <td>0.017355</td>\n",
              "    </tr>\n",
              "    <tr>\n",
              "      <th>9</th>\n",
              "      <td>8.127015</td>\n",
              "      <td>7.961519</td>\n",
              "      <td>0.0</td>\n",
              "      <td>0</td>\n",
              "      <td>0.011720</td>\n",
              "    </tr>\n",
              "    <tr>\n",
              "      <th>10</th>\n",
              "      <td>8.060223</td>\n",
              "      <td>8.090433</td>\n",
              "      <td>0.0</td>\n",
              "      <td>0</td>\n",
              "      <td>0.011342</td>\n",
              "    </tr>\n",
              "    <tr>\n",
              "      <th>11</th>\n",
              "      <td>8.018019</td>\n",
              "      <td>7.935476</td>\n",
              "      <td>0.0</td>\n",
              "      <td>0</td>\n",
              "      <td>0.008865</td>\n",
              "    </tr>\n",
              "    <tr>\n",
              "      <th>12</th>\n",
              "      <td>7.909118</td>\n",
              "      <td>7.994900</td>\n",
              "      <td>0.0</td>\n",
              "      <td>0</td>\n",
              "      <td>0.008841</td>\n",
              "    </tr>\n",
              "    <tr>\n",
              "      <th>13</th>\n",
              "      <td>8.055735</td>\n",
              "      <td>8.100192</td>\n",
              "      <td>0.0</td>\n",
              "      <td>0</td>\n",
              "      <td>0.013955</td>\n",
              "    </tr>\n",
              "    <tr>\n",
              "      <th>14</th>\n",
              "      <td>7.894157</td>\n",
              "      <td>8.133181</td>\n",
              "      <td>0.0</td>\n",
              "      <td>0</td>\n",
              "      <td>0.013589</td>\n",
              "    </tr>\n",
              "    <tr>\n",
              "      <th>15</th>\n",
              "      <td>8.010828</td>\n",
              "      <td>7.924540</td>\n",
              "      <td>0.0</td>\n",
              "      <td>0</td>\n",
              "      <td>0.008352</td>\n",
              "    </tr>\n",
              "    <tr>\n",
              "      <th>16</th>\n",
              "      <td>7.900314</td>\n",
              "      <td>7.944895</td>\n",
              "      <td>0.0</td>\n",
              "      <td>0</td>\n",
              "      <td>0.016072</td>\n",
              "    </tr>\n",
              "    <tr>\n",
              "      <th>17</th>\n",
              "      <td>8.107563</td>\n",
              "      <td>8.005443</td>\n",
              "      <td>0.0</td>\n",
              "      <td>0</td>\n",
              "      <td>0.017030</td>\n",
              "    </tr>\n",
              "    <tr>\n",
              "      <th>18</th>\n",
              "      <td>8.011288</td>\n",
              "      <td>8.029382</td>\n",
              "      <td>0.0</td>\n",
              "      <td>0</td>\n",
              "      <td>0.011196</td>\n",
              "    </tr>\n",
              "    <tr>\n",
              "      <th>19</th>\n",
              "      <td>7.916213</td>\n",
              "      <td>8.057154</td>\n",
              "      <td>0.0</td>\n",
              "      <td>0</td>\n",
              "      <td>0.011809</td>\n",
              "    </tr>\n",
              "  </tbody>\n",
              "</table>\n",
              "</div>\n",
              "      <button class=\"colab-df-convert\" onclick=\"convertToInteractive('df-3f8cd611-0689-4f69-bc11-2f2af54dd626')\"\n",
              "              title=\"Convert this dataframe to an interactive table.\"\n",
              "              style=\"display:none;\">\n",
              "        \n",
              "  <svg xmlns=\"http://www.w3.org/2000/svg\" height=\"24px\"viewBox=\"0 0 24 24\"\n",
              "       width=\"24px\">\n",
              "    <path d=\"M0 0h24v24H0V0z\" fill=\"none\"/>\n",
              "    <path d=\"M18.56 5.44l.94 2.06.94-2.06 2.06-.94-2.06-.94-.94-2.06-.94 2.06-2.06.94zm-11 1L8.5 8.5l.94-2.06 2.06-.94-2.06-.94L8.5 2.5l-.94 2.06-2.06.94zm10 10l.94 2.06.94-2.06 2.06-.94-2.06-.94-.94-2.06-.94 2.06-2.06.94z\"/><path d=\"M17.41 7.96l-1.37-1.37c-.4-.4-.92-.59-1.43-.59-.52 0-1.04.2-1.43.59L10.3 9.45l-7.72 7.72c-.78.78-.78 2.05 0 2.83L4 21.41c.39.39.9.59 1.41.59.51 0 1.02-.2 1.41-.59l7.78-7.78 2.81-2.81c.8-.78.8-2.07 0-2.86zM5.41 20L4 18.59l7.72-7.72 1.47 1.35L5.41 20z\"/>\n",
              "  </svg>\n",
              "      </button>\n",
              "      \n",
              "  <style>\n",
              "    .colab-df-container {\n",
              "      display:flex;\n",
              "      flex-wrap:wrap;\n",
              "      gap: 12px;\n",
              "    }\n",
              "\n",
              "    .colab-df-convert {\n",
              "      background-color: #E8F0FE;\n",
              "      border: none;\n",
              "      border-radius: 50%;\n",
              "      cursor: pointer;\n",
              "      display: none;\n",
              "      fill: #1967D2;\n",
              "      height: 32px;\n",
              "      padding: 0 0 0 0;\n",
              "      width: 32px;\n",
              "    }\n",
              "\n",
              "    .colab-df-convert:hover {\n",
              "      background-color: #E2EBFA;\n",
              "      box-shadow: 0px 1px 2px rgba(60, 64, 67, 0.3), 0px 1px 3px 1px rgba(60, 64, 67, 0.15);\n",
              "      fill: #174EA6;\n",
              "    }\n",
              "\n",
              "    [theme=dark] .colab-df-convert {\n",
              "      background-color: #3B4455;\n",
              "      fill: #D2E3FC;\n",
              "    }\n",
              "\n",
              "    [theme=dark] .colab-df-convert:hover {\n",
              "      background-color: #434B5C;\n",
              "      box-shadow: 0px 1px 3px 1px rgba(0, 0, 0, 0.15);\n",
              "      filter: drop-shadow(0px 1px 2px rgba(0, 0, 0, 0.3));\n",
              "      fill: #FFFFFF;\n",
              "    }\n",
              "  </style>\n",
              "\n",
              "      <script>\n",
              "        const buttonEl =\n",
              "          document.querySelector('#df-3f8cd611-0689-4f69-bc11-2f2af54dd626 button.colab-df-convert');\n",
              "        buttonEl.style.display =\n",
              "          google.colab.kernel.accessAllowed ? 'block' : 'none';\n",
              "\n",
              "        async function convertToInteractive(key) {\n",
              "          const element = document.querySelector('#df-3f8cd611-0689-4f69-bc11-2f2af54dd626');\n",
              "          const dataTable =\n",
              "            await google.colab.kernel.invokeFunction('convertToInteractive',\n",
              "                                                     [key], {});\n",
              "          if (!dataTable) return;\n",
              "\n",
              "          const docLinkHtml = 'Like what you see? Visit the ' +\n",
              "            '<a target=\"_blank\" href=https://colab.research.google.com/notebooks/data_table.ipynb>data table notebook</a>'\n",
              "            + ' to learn more about interactive tables.';\n",
              "          element.innerHTML = '';\n",
              "          dataTable['output_type'] = 'display_data';\n",
              "          await google.colab.output.renderOutput(dataTable, element);\n",
              "          const docLink = document.createElement('div');\n",
              "          docLink.innerHTML = docLinkHtml;\n",
              "          element.appendChild(docLink);\n",
              "        }\n",
              "      </script>\n",
              "    </div>\n",
              "  </div>\n",
              "  "
            ]
          },
          "metadata": {},
          "execution_count": 17
        }
      ],
      "source": [
        "# inserindo no conjunto de dados as variáveis \"predicted\" e \"confidence\"\n",
        "df['predicted'] = pred      # predições realizadas pelo modelo\n",
        "df['confidence'] = conf     # índice de confiança das predições\n",
        "\n",
        "# visualizando as 20 primeiras observações\n",
        "df.head(20)"
      ]
    },
    {
      "cell_type": "code",
      "execution_count": null,
      "id": "d22abc3b-f6e7-48ff-8523-e7864acc03b1",
      "metadata": {
        "id": "d22abc3b-f6e7-48ff-8523-e7864acc03b1",
        "colab": {
          "base_uri": "https://localhost:8080/"
        },
        "outputId": "1434968b-bbb6-4b50-ec8b-6b0062c01131"
      },
      "outputs": [
        {
          "output_type": "stream",
          "name": "stdout",
          "text": [
            "Report: (array([0, 1]), array([900, 100]))\n"
          ]
        }
      ],
      "source": [
        "# visualizando o \"report\"\n",
        "print(\n",
        "    f'Report: {analysis}'\n",
        ")"
      ]
    },
    {
      "cell_type": "code",
      "execution_count": null,
      "id": "3049d75b-066c-484b-aa07-8307472f96d9",
      "metadata": {
        "id": "3049d75b-066c-484b-aa07-8307472f96d9",
        "colab": {
          "base_uri": "https://localhost:8080/"
        },
        "outputId": "8c2395bd-2b69-4846-ecfc-6b393430ff32"
      },
      "outputs": [
        {
          "output_type": "stream",
          "name": "stdout",
          "text": [
            "False    900\n",
            "True     100\n",
            "Name: class, dtype: int64\n",
            "\n",
            "False    900\n",
            "True     100\n",
            "Name: predicted, dtype: int64\n"
          ]
        }
      ],
      "source": [
        "# visualizando a distribuição dos dados es suas respectivas classes\n",
        "print(\n",
        "    (df['class'] == 1.0).value_counts(), \n",
        "    (df['predicted'] == 1.0).value_counts(),\n",
        "    sep='\\n\\n'\n",
        ")"
      ]
    },
    {
      "cell_type": "code",
      "execution_count": null,
      "id": "96d3c18c-3567-43b6-924f-37da862de3ca",
      "metadata": {
        "id": "96d3c18c-3567-43b6-924f-37da862de3ca",
        "colab": {
          "base_uri": "https://localhost:8080/",
          "height": 465
        },
        "outputId": "8702d0e1-2d9c-4f46-f8f5-42c7e120bdd8"
      },
      "outputs": [
        {
          "output_type": "display_data",
          "data": {
            "text/plain": [
              "<Figure size 1296x504 with 2 Axes>"
            ],
            "image/png": "[encoded data removed]"
          },
          "metadata": {}
        }
      ],
      "source": [
        "# plotando gráfico de dispersão dos dados reais e da classificação de outliers realizado pelo modelo\n",
        "plt.style.use('ggplot')\n",
        "plt.figure(figsize=(18,7))\n",
        "\n",
        "plt.subplot(1,2,1)\n",
        "plt.title('True class', loc='left')\n",
        "sns.scatterplot(data=df, x='x', y='y', hue='class');\n",
        "\n",
        "plt.subplot(1,2,2)\n",
        "plt.title('Model analysis', loc='left')\n",
        "sns.scatterplot(data=df, x='x', y='y', hue='predicted');"
      ]
    },
    {
      "cell_type": "code",
      "execution_count": null,
      "id": "e24ddd08-5e47-4668-9900-6b193e327241",
      "metadata": {
        "id": "e24ddd08-5e47-4668-9900-6b193e327241"
      },
      "outputs": [],
      "source": [
        ""
      ]
    },
    {
      "cell_type": "code",
      "execution_count": null,
      "id": "12a84166-6d7f-40f6-9d1c-e3bfa7dd892e",
      "metadata": {
        "id": "12a84166-6d7f-40f6-9d1c-e3bfa7dd892e"
      },
      "outputs": [],
      "source": [
        ""
      ]
    },
    {
      "cell_type": "code",
      "execution_count": null,
      "id": "4f0a8a2e-6c06-43b7-831c-ba81ac262c88",
      "metadata": {
        "id": "4f0a8a2e-6c06-43b7-831c-ba81ac262c88"
      },
      "outputs": [],
      "source": [
        ""
      ]
    }
  ],
  "metadata": {
    "kernelspec": {
      "display_name": "Python 3 (ipykernel)",
      "language": "python",
      "name": "python3"
    },
    "language_info": {
      "codemirror_mode": {
        "name": "ipython",
        "version": 3
      },
      "file_extension": ".py",
      "mimetype": "text/x-python",
      "name": "python",
      "nbconvert_exporter": "python",
      "pygments_lexer": "ipython3",
      "version": "3.7.10"
    },
    "colab": {
      "name": "[DICAS] - Explorando a biblioteca PyOD para deteccao de outliers.ipynb",
      "provenance": [],
      "include_colab_link": true
    }
  },
  "nbformat": 4,
  "nbformat_minor": 5
}